{
  "nbformat": 4,
  "nbformat_minor": 0,
  "metadata": {
    "colab": {
      "provenance": [],
      "authorship_tag": "ABX9TyM+G3Ls3aqnbLi7/h2BiMqg",
      "include_colab_link": true
    },
    "kernelspec": {
      "name": "python3",
      "display_name": "Python 3"
    },
    "language_info": {
      "name": "python"
    }
  },
  "cells": [
    {
      "cell_type": "markdown",
      "metadata": {
        "id": "view-in-github",
        "colab_type": "text"
      },
      "source": [
        "<a href=\"https://colab.research.google.com/github/power777-coder/DADV/blob/main/DADV_2.ipynb\" target=\"_parent\"><img src=\"https://colab.research.google.com/assets/colab-badge.svg\" alt=\"Open In Colab\"/></a>"
      ]
    },
    {
      "cell_type": "code",
      "execution_count": 1,
      "metadata": {
        "id": "po4AaDtbaWa4"
      },
      "outputs": [],
      "source": [
        "import statistics as st\n",
        "import numpy as np\n",
        "import pandas as pd\n",
        "import matplotlib.pyplot as plt\n",
        "import scipy.stats as stats"
      ]
    },
    {
      "cell_type": "code",
      "source": [
        "data = [1,3,4,5,7,9,2]\n",
        "numeric_data = data\n",
        "x1 = st.median(numeric_data)\n",
        "print(x1)\n",
        "x2 = st.mode(numeric_data)\n",
        "print(x2)\n",
        "x3 = st.mean(numeric_data)\n",
        "print(x3)\n",
        "x4 = st.stdev(numeric_data)\n",
        "print(x4)\n",
        "x5 = st.variance(numeric_data)\n",
        "print(x5)"
      ],
      "metadata": {
        "colab": {
          "base_uri": "https://localhost:8080/"
        },
        "id": "6JkcIsRsnpZw",
        "outputId": "62c0ddbe-7539-4db7-e51d-f48362c1d5a1"
      },
      "execution_count": 2,
      "outputs": [
        {
          "output_type": "stream",
          "name": "stdout",
          "text": [
            "4\n",
            "1\n",
            "4.428571428571429\n",
            "2.819996622760558\n",
            "7.9523809523809526\n"
          ]
        }
      ]
    },
    {
      "cell_type": "code",
      "source": [
        "labels = ['Median' , 'Mode' , 'Mean' , 'Stdev' , 'Varience']\n",
        "values = [x1 , x2 , x3 , x4 , x5]"
      ],
      "metadata": {
        "id": "JE_hxrnVpPbH"
      },
      "execution_count": 3,
      "outputs": []
    },
    {
      "cell_type": "code",
      "source": [
        "plt.figure(figsize=(8,5))\n",
        "plt.bar(labels,values,color = 'cyan')\n",
        "plt.title('Summary Statistics')\n",
        "plt.ylabel('Value')\n",
        "plt.grid(axis='y')\n",
        "plt.tight_layout()\n",
        "plt.savefig('summary_statistics.png')"
      ],
      "metadata": {
        "colab": {
          "base_uri": "https://localhost:8080/",
          "height": 507
        },
        "id": "_FfPLVelqJgb",
        "outputId": "11bec112-18f0-4339-9bf4-ea317d35625b"
      },
      "execution_count": 5,
      "outputs": [
        {
          "output_type": "display_data",
          "data": {
            "text/plain": [
              "<Figure size 800x500 with 1 Axes>"
            ],
            "image/png": "[encoded data removed]"
          },
          "metadata": {}
        }
      ]
    },
    {
      "cell_type": "code",
      "source": [
        "data1 = (11,3,4,5,7,9,2)\n",
        "data2 = (-1,-2,-4,-7,-12,-19)\n",
        "data3 = (-1,-13,-6,4,5,19,9)"
      ],
      "metadata": {
        "id": "mfkatqaOrDej"
      },
      "execution_count": 6,
      "outputs": []
    },
    {
      "cell_type": "code",
      "source": [
        "from fractions import Fraction as fr\n",
        "data4 = (fr(1,2),fr(44,12),fr(10,3),fr(2,3))\n",
        "data5 = {1: \"one\" , 2: \"two\" , 3: \"three\"}"
      ],
      "metadata": {
        "id": "t7Cr94xErivQ"
      },
      "execution_count": 7,
      "outputs": []
    },
    {
      "cell_type": "code",
      "source": [
        "import statistics as st\n",
        "from statistics import mean\n",
        "print(\"Mean of dataset 1 is %s\" %(st.mean(data1)))\n",
        "print(\"Mean of dataset 2 is %s\" %(st.mean(data2)))\n",
        "print(\"Mean of dataset 3 is %s\" %(st.mean(data3)))\n",
        "print(\"Mean of dataset 4 is %s\" %(st.mean(data4)))"
      ],
      "metadata": {
        "colab": {
          "base_uri": "https://localhost:8080/"
        },
        "id": "taYSgA9IsHp6",
        "outputId": "e101f927-3270-4aec-c46c-95254c291552"
      },
      "execution_count": 9,
      "outputs": [
        {
          "output_type": "stream",
          "name": "stdout",
          "text": [
            "Mean of dataset 1 is 5.857142857142857\n",
            "Mean of dataset 2 is -7.5\n",
            "Mean of dataset 3 is 2.4285714285714284\n",
            "Mean of dataset 4 is 49/24\n"
          ]
        }
      ]
    },
    {
      "cell_type": "code",
      "source": [
        "import scipy\n",
        "import numpy as np\n",
        "\n",
        "arr1 = [1,3,np.nan,27,2,5]\n",
        "print(\"Median using nanmedian :\",np.nanmedian(arr1))\n",
        "print(\"Median without handling nan value :\",np.median(arr1))"
      ],
      "metadata": {
        "colab": {
          "base_uri": "https://localhost:8080/"
        },
        "id": "sT-6ptjSsn9U",
        "outputId": "43d23e0e-e85e-425f-f6a5-12942d5146ca"
      },
      "execution_count": 10,
      "outputs": [
        {
          "output_type": "stream",
          "name": "stdout",
          "text": [
            "Median using nanmedian : 3.0\n",
            "Median without handling nan value : nan\n"
          ]
        }
      ]
    }
  ]
}